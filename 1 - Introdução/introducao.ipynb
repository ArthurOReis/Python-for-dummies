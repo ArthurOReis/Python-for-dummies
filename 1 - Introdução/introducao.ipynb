{
 "cells": [
  {
   "cell_type": "markdown",
   "id": "990354faa789c26b",
   "metadata": {},
   "source": [
    "O Python possui uma série de comandos e funções, onde será demonstrado:"
   ]
  },
  {
   "cell_type": "code",
   "execution_count": null,
   "id": "a443dc7d9fe34139",
   "metadata": {},
   "outputs": [],
   "source": [
    "print()"
   ]
  },
  {
   "cell_type": "markdown",
   "id": "7c20deba0646cf36",
   "metadata": {},
   "source": [
    "`print()` É uma função que printa no console mensagens que podem ser escritos dentro de aspas, nos parênteses, tanto em forma de string como boolean, int, double, float..."
   ]
  },
  {
   "cell_type": "code",
   "execution_count": null,
   "id": "6a456f4a",
   "metadata": {},
   "outputs": [],
   "source": [
    "print(\"Hello, world!\")\n",
    "print(123)\n",
    "print(3.21)"
   ]
  },
  {
   "cell_type": "markdown",
   "id": "f115d3b0",
   "metadata": {},
   "source": [
    "Também pode printar valores de variáveis:"
   ]
  }
 ],
 "metadata": {
  "kernelspec": {
   "display_name": "Python 3 (ipykernel)",
   "language": "python",
   "name": "python3"
  },
  "language_info": {
   "codemirror_mode": {
    "name": "ipython",
    "version": 3
   },
   "file_extension": ".py",
   "mimetype": "text/x-python",
   "name": "python",
   "nbconvert_exporter": "python",
   "pygments_lexer": "ipython3",
   "version": "3.13.2"
  }
 },
 "nbformat": 4,
 "nbformat_minor": 5
}
