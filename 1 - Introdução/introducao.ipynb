{
 "cells": [
  {
   "metadata": {},
   "cell_type": "markdown",
   "source": "O Python possui uma série de comandos e funções, onde será demonstrado:",
   "id": "990354faa789c26b"
  },
  {
   "metadata": {},
   "cell_type": "code",
   "source": "print()",
   "id": "a443dc7d9fe34139",
   "outputs": [],
   "execution_count": null
  },
  {
   "metadata": {},
   "cell_type": "markdown",
   "source": "`print()` É uma função que printa no console mensagens que podem ser escritos dentro de aspas, nos parênteses, tanto em forma de string como boolean, int, double, float...",
   "id": "7c20deba0646cf36"
  }
 ],
 "metadata": {
  "kernelspec": {
   "display_name": "Python 3",
   "language": "python",
   "name": "python3"
  },
  "language_info": {
   "codemirror_mode": {
    "name": "ipython",
    "version": 2
   },
   "file_extension": ".py",
   "mimetype": "text/x-python",
   "name": "python",
   "nbconvert_exporter": "python",
   "pygments_lexer": "ipython2",
   "version": "2.7.6"
  }
 },
 "nbformat": 4,
 "nbformat_minor": 5
}
